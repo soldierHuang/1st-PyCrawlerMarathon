{
  "nbformat": 4,
  "nbformat_minor": 0,
  "metadata": {
    "kernelspec": {
      "display_name": "Python 3",
      "language": "python",
      "name": "python3"
    },
    "language_info": {
      "codemirror_mode": {
        "name": "ipython",
        "version": 3
      },
      "file_extension": ".py",
      "mimetype": "text/x-python",
      "name": "python",
      "nbconvert_exporter": "python",
      "pygments_lexer": "ipython3",
      "version": "3.6.9"
    },
    "colab": {
      "name": "Day009_HW.ipynb",
      "provenance": [],
      "toc_visible": true
    }
  },
  "cells": [
    {
      "cell_type": "markdown",
      "metadata": {
        "id": "hw-NLRNq8YTf",
        "colab_type": "text"
      },
      "source": [
        "# 作業\n",
        "\n",
        "以正確的副檔名下載網頁中的圖片\n",
        "範例網頁:https://www.ptt.cc/bbs/Beauty/M.1556291059.A.75A.html\n",
        "\n",
        "Note：因為 PTT 會詢問「是否滿 18 歲」，這邊可以用 cookies 繞過\n",
        "\n",
        "`requests.get(URL, cookies={'over18': '1'}`\n"
      ]
    },
    {
      "cell_type": "code",
      "metadata": {
        "id": "dcSjfpih8YTg",
        "colab_type": "code",
        "colab": {}
      },
      "source": [
        "import requests\n",
        "import os\n",
        "\n",
        "from bs4 import BeautifulSoup\n",
        "from PIL import Image"
      ],
      "execution_count": 0,
      "outputs": []
    },
    {
      "cell_type": "code",
      "metadata": {
        "id": "aqjyeI208YTi",
        "colab_type": "code",
        "colab": {}
      },
      "source": [
        "url = 'https://www.ptt.cc/bbs/Beauty/M.1556291059.A.75A.html'\n",
        "resp = requests.get(url, cookies={'over18': '1'})\n",
        "soup = BeautifulSoup(resp.text)\n",
        "# soup"
      ],
      "execution_count": 0,
      "outputs": []
    },
    {
      "cell_type": "code",
      "metadata": {
        "id": "vsRIUxOm8YTk",
        "colab_type": "code",
        "colab": {
          "base_uri": "https://localhost:8080/",
          "height": 102
        },
        "outputId": "1688adbb-4904-4af1-f6ec-43bfafc3ca32"
      },
      "source": [
        "# 決定要儲存的資料夾\n",
        "output_dir = './'\n",
        "\n",
        "# 假如資料夾不存在就新增一個資料夾\n",
        "if not os.path.exists(output_dir):\n",
        "    os.makedirs(output_dir)\n",
        "\n",
        "# 定位所有圖片的 tag\n",
        "image_tags = soup.find(id='main-content').findChildren('a', recursive=False)\n",
        "for img_tag in image_tags:\n",
        "    # 取得所有圖片在第三方服務的 id\n",
        "    if 'imgur' not in img_tag['href']:\n",
        "        continue\n",
        "    img_id = img_tag['href'].split('/')[-1]\n",
        "\n",
        "    # 組合圖片而非網站的網址\n",
        "    img_url = 'https://i.imgur.com/{}.jpg'.format(img_id)\n",
        "\n",
        "    # 對圖片送出請求\n",
        "    with requests.get(img_url, stream=True) as r:\n",
        "        r.raise_for_status()\n",
        "        # 檢查圖片副檔名\n",
        "        img = Image.open(r.raw)\n",
        "        img_savename = '{outdir}/{img_id}.{img_ext}'.format(\n",
        "            outdir=output_dir, img_id=img_id, img_ext=img.format.lower())\n",
        "        img.save(img_savename)\n",
        "        print('Save image {}'.format(img_savename))"
      ],
      "execution_count": 3,
      "outputs": [
        {
          "output_type": "stream",
          "text": [
            "Save image .//Cgb5oo1.jpeg\n",
            "Save image .//MgjHY4f.jpeg\n",
            "Save image .//yeoRtAs.jpeg\n",
            "Save image .//wsauNEW.jpeg\n",
            "Save image .//IjiETcs.jpeg\n"
          ],
          "name": "stdout"
        }
      ]
    }
  ]
}