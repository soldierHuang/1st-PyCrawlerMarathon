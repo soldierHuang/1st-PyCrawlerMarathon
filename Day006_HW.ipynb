{
  "nbformat": 4,
  "nbformat_minor": 0,
  "metadata": {
    "kernelspec": {
      "display_name": "Python 3",
      "language": "python",
      "name": "python3"
    },
    "language_info": {
      "codemirror_mode": {
        "name": "ipython",
        "version": 3
      },
      "file_extension": ".py",
      "mimetype": "text/x-python",
      "name": "python",
      "nbconvert_exporter": "python",
      "pygments_lexer": "ipython3",
      "version": "3.6.5"
    },
    "colab": {
      "name": "Day006_HW.ipynb",
      "provenance": [],
      "toc_visible": true
    }
  },
  "cells": [
    {
      "cell_type": "markdown",
      "metadata": {
        "id": "0C6SXAROs8JL",
        "colab_type": "text"
      },
      "source": [
        "# API 資料串接 - 以 知乎 API 實作範例\n",
        "\n",
        "\n",
        "\n",
        "* 了解知乎 API 使用方式與回傳內容\n",
        "* 撰寫程式存取 API 且添加標頭\n",
        "\n",
        "\n"
      ]
    },
    {
      "cell_type": "markdown",
      "metadata": {
        "id": "PISI1xZys8JN",
        "colab_type": "text"
      },
      "source": [
        "## 作業目標\n",
        "\n",
        "* 根據範例提供的 API ，完成以下問題：\n",
        "\n",
        "    1. 取出知乎問題發問時間\n",
        "    2. 取出第一筆與最後一筆回答的時間\n"
      ]
    },
    {
      "cell_type": "markdown",
      "metadata": {
        "id": "-bjUJP1js8JO",
        "colab_type": "text"
      },
      "source": [
        "### 1. 取出知乎問題發問時間"
      ]
    },
    {
      "cell_type": "code",
      "metadata": {
        "id": "Z3UYhkq9s8JP",
        "colab_type": "code",
        "colab": {
          "base_uri": "https://localhost:8080/",
          "height": 204
        },
        "outputId": "d66b53e6-9f90-4fff-bb72-ce12fb5e3d7f"
      },
      "source": [
        "# 1. 取出知乎問題發問時間\n",
        "\n",
        "import requests\n",
        "import json\n",
        "from datetime import datetime\n",
        "import pandas as pd\n",
        "\n",
        "\n",
        "headers = {'user-agent': 'my-app/0.0.1'}\n",
        "r = requests.get('https://www.zhihu.com/api/v4/questions/55493026/answers',headers=headers)\n",
        "response = r.text\n",
        "\n",
        "data = json.loads(response)\n",
        "\n",
        "column = []\n",
        "\n",
        "for d in data['data']:\n",
        "  # print(d)\n",
        "  for i in d[\"question\"] :\n",
        "    # print(i)\n",
        "    title = d[\"question\"][\"title\"]\n",
        "\n",
        "    created_timestamp = d['created_time']\n",
        "    updated_timestamp = d['updated_time']\n",
        "    created_time = datetime.utcfromtimestamp(created_timestamp) \n",
        "    updated_time = datetime.utcfromtimestamp(updated_timestamp)\n",
        "  column.append([ title, created_time, updated_time ])\n",
        "\n",
        "df = pd.DataFrame(column,columns=['標題','發問時間','回答時間'])\n",
        "df"
      ],
      "execution_count": 1,
      "outputs": [
        {
          "output_type": "execute_result",
          "data": {
            "text/html": [
              "<div>\n",
              "<style scoped>\n",
              "    .dataframe tbody tr th:only-of-type {\n",
              "        vertical-align: middle;\n",
              "    }\n",
              "\n",
              "    .dataframe tbody tr th {\n",
              "        vertical-align: top;\n",
              "    }\n",
              "\n",
              "    .dataframe thead th {\n",
              "        text-align: right;\n",
              "    }\n",
              "</style>\n",
              "<table border=\"1\" class=\"dataframe\">\n",
              "  <thead>\n",
              "    <tr style=\"text-align: right;\">\n",
              "      <th></th>\n",
              "      <th>標題</th>\n",
              "      <th>發問時間</th>\n",
              "      <th>回答時間</th>\n",
              "    </tr>\n",
              "  </thead>\n",
              "  <tbody>\n",
              "    <tr>\n",
              "      <th>0</th>\n",
              "      <td>你们都是怎么学 Python 的？</td>\n",
              "      <td>2019-05-14 09:00:12</td>\n",
              "      <td>2019-05-14 09:00:12</td>\n",
              "    </tr>\n",
              "    <tr>\n",
              "      <th>1</th>\n",
              "      <td>你们都是怎么学 Python 的？</td>\n",
              "      <td>2019-04-01 02:17:08</td>\n",
              "      <td>2019-05-21 15:13:38</td>\n",
              "    </tr>\n",
              "    <tr>\n",
              "      <th>2</th>\n",
              "      <td>你们都是怎么学 Python 的？</td>\n",
              "      <td>2017-05-02 06:48:23</td>\n",
              "      <td>2017-05-02 06:59:17</td>\n",
              "    </tr>\n",
              "    <tr>\n",
              "      <th>3</th>\n",
              "      <td>你们都是怎么学 Python 的？</td>\n",
              "      <td>2017-05-02 02:45:13</td>\n",
              "      <td>2019-04-13 06:44:27</td>\n",
              "    </tr>\n",
              "    <tr>\n",
              "      <th>4</th>\n",
              "      <td>你们都是怎么学 Python 的？</td>\n",
              "      <td>2019-10-29 03:07:06</td>\n",
              "      <td>2019-11-26 08:14:14</td>\n",
              "    </tr>\n",
              "  </tbody>\n",
              "</table>\n",
              "</div>"
            ],
            "text/plain": [
              "                  標題                發問時間                回答時間\n",
              "0  你们都是怎么学 Python 的？ 2019-05-14 09:00:12 2019-05-14 09:00:12\n",
              "1  你们都是怎么学 Python 的？ 2019-04-01 02:17:08 2019-05-21 15:13:38\n",
              "2  你们都是怎么学 Python 的？ 2017-05-02 06:48:23 2017-05-02 06:59:17\n",
              "3  你们都是怎么学 Python 的？ 2017-05-02 02:45:13 2019-04-13 06:44:27\n",
              "4  你们都是怎么学 Python 的？ 2019-10-29 03:07:06 2019-11-26 08:14:14"
            ]
          },
          "metadata": {
            "tags": []
          },
          "execution_count": 1
        }
      ]
    },
    {
      "cell_type": "markdown",
      "metadata": {
        "id": "GIF8A3mfs8JS",
        "colab_type": "text"
      },
      "source": [
        "### 2. 取出第一筆與最後一筆回答的時間"
      ]
    },
    {
      "cell_type": "code",
      "metadata": {
        "id": "NtQJnzWxs8JT",
        "colab_type": "code",
        "colab": {
          "base_uri": "https://localhost:8080/",
          "height": 136
        },
        "outputId": "355674f8-4bea-46b3-faec-0f6986be369c"
      },
      "source": [
        "# 2. 取出第一筆與最後一筆回答的時間\n",
        "df = df.sort_values(by='回答時間',ascending=True)\n",
        "print(\"第一筆回答的時間\")\n",
        "print(df.head(1)['回答時間'])\n",
        "\n",
        "print()\n",
        "\n",
        "print(\"最後一筆回答的時間\")\n",
        "print(df.tail(1)['回答時間'])"
      ],
      "execution_count": 2,
      "outputs": [
        {
          "output_type": "stream",
          "text": [
            "第一筆回答的時間\n",
            "2   2017-05-02 06:59:17\n",
            "Name: 回答時間, dtype: datetime64[ns]\n",
            "\n",
            "最後一筆回答的時間\n",
            "4   2019-11-26 08:14:14\n",
            "Name: 回答時間, dtype: datetime64[ns]\n"
          ],
          "name": "stdout"
        }
      ]
    }
  ]
}