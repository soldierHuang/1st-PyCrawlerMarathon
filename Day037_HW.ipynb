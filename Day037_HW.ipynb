{
  "nbformat": 4,
  "nbformat_minor": 0,
  "metadata": {
    "colab": {
      "name": "Day037_HW.ipynb",
      "provenance": []
    },
    "kernelspec": {
      "display_name": "Python 3",
      "language": "python",
      "name": "python3"
    },
    "language_info": {
      "codemirror_mode": {
        "name": "ipython",
        "version": 3
      },
      "file_extension": ".py",
      "mimetype": "text/x-python",
      "name": "python",
      "nbconvert_exporter": "python",
      "pygments_lexer": "ipython3",
      "version": "3.6.5"
    }
  },
  "cells": [
    {
      "cell_type": "markdown",
      "metadata": {
        "id": "JttrjlhqLK5-",
        "colab_type": "text"
      },
      "source": [
        "# 自動化更新機制\n",
        "\n",
        "\n",
        "* 如何定期執行爬蟲程式\n",
        "* 更新時需要注意的事情是什麼？\n"
      ]
    },
    {
      "cell_type": "markdown",
      "metadata": {
        "id": "WpkLNtUcLK6C",
        "colab_type": "text"
      },
      "source": [
        "## 作業目標\n",
        "\n",
        "* 列舉一個是需要用自動化更新的機制來達成的爬蟲應用。"
      ]
    },
    {
      "cell_type": "markdown",
      "metadata": {
        "id": "LRUZLm3GONbD",
        "colab_type": "text"
      },
      "source": [
        "新聞網站-焦點新聞"
      ]
    },
    {
      "cell_type": "code",
      "metadata": {
        "id": "5TAlT5ormHqp",
        "colab_type": "code",
        "colab": {}
      },
      "source": [
        "def hourNews(url): \n",
        "    import requests\n",
        "    from bs4 import BeautifulSoup\n",
        "    import pandas as pd\n",
        "\n",
        "    search = []\n",
        "\n",
        "    r = requests.get(url)\n",
        "\n",
        "    soup = BeautifulSoup(r.text, \"html5lib\")\n",
        "\n",
        "    for d in soup.find(class_=\"part_list_2\").find_all('h3'):\n",
        "        k = (d.find(class_=\"date\").text, d.find_all('em')[-1].text, d.find_all('a')[-1].text)\n",
        "        # print(d.find(class_=\"date\").text, d.find_all('em')[-1].text, d.find_all('a')[-1].text)\n",
        "        search.append(k)\n",
        "    df = pd.DataFrame(search,columns=[\"date\",\"catagoly\",\"topic\"])\n",
        "    print(df.head())\n",
        "    return "
      ],
      "execution_count": 0,
      "outputs": []
    },
    {
      "cell_type": "code",
      "metadata": {
        "id": "BWAQ13tbq7Z5",
        "colab_type": "code",
        "colab": {
          "base_uri": "https://localhost:8080/",
          "height": 119
        },
        "outputId": "54c5c574-1cd2-4be8-fb5b-ff1c9ff4f552"
      },
      "source": [
        "# 呼叫焦點新聞\n",
        "\n",
        "url = 'https://www.ettoday.net/news/news-list.htm'\n",
        "\n",
        "hourNews(url)  "
      ],
      "execution_count": 2,
      "outputs": [
        {
          "output_type": "stream",
          "text": [
            "               date catagoly                            topic\n",
            "0  2020/02/03 14:33       地方            桃園竹圍漁港膠筏竄火苗　海巡消防滅火速搶救\n",
            "1  2020/02/03 14:32       政治  黃捷收到5張「金紙」　網蓋樓「給女神的無誤」狂酸恐嚇者買錯顏色\n",
            "2  2020/02/03 14:30       論壇           【名家看經濟】李沃牆／英國正式脫歐挑戰才開始\n",
            "3  2020/02/03 14:29       體育     歡迎回來世界第一！　謝淑薇三度登球后：不爭不搶，榮辱不驚\n",
            "4  2020/02/03 14:29       財經         「口罩荒」開放實名制領取？　經濟部：跨部會討論中\n"
          ],
          "name": "stdout"
        }
      ]
    },
    {
      "cell_type": "code",
      "metadata": {
        "id": "a3CQliSDmfLf",
        "colab_type": "code",
        "colab": {
          "base_uri": "https://localhost:8080/",
          "height": 289
        },
        "outputId": "d9e479b2-cee3-4486-e658-efb4ab21767f"
      },
      "source": [
        "# 方法一：在迴圈中加上 Sleep\n",
        "\n",
        "import time\n",
        "\n",
        "count = 1\n",
        "\n",
        "while True:\n",
        "    now_time = time.strftime('%Y-%m-%d %X', time.localtime())\n",
        "\n",
        "    print(f'count',count,now_time)\n",
        "    hourNews(url)  # 呼叫焦點新聞\n",
        "    \n",
        "    print('-' * 100)\n",
        "    time.sleep(10)\n",
        "    count += 1\n",
        "    if count >= 3:\n",
        "        break"
      ],
      "execution_count": 3,
      "outputs": [
        {
          "output_type": "stream",
          "text": [
            "count 1 2020-02-03 06:36:57\n",
            "               date catagoly                            topic\n",
            "0  2020/02/03 14:33       地方            桃園竹圍漁港膠筏竄火苗　海巡消防滅火速搶救\n",
            "1  2020/02/03 14:32       政治  黃捷收到5張「金紙」　網蓋樓「給女神的無誤」狂酸恐嚇者買錯顏色\n",
            "2  2020/02/03 14:30       論壇           【名家看經濟】李沃牆／英國正式脫歐挑戰才開始\n",
            "3  2020/02/03 14:29       體育     歡迎回來世界第一！　謝淑薇三度登球后：不爭不搶，榮辱不驚\n",
            "4  2020/02/03 14:29       財經         「口罩荒」開放實名制領取？　經濟部：跨部會討論中\n",
            "----------------------------------------------------------------------------------------------------\n",
            "count 2 2020-02-03 06:37:09\n",
            "               date catagoly                            topic\n",
            "0  2020/02/03 14:36       影劇   張洛偍交良民證「想跑Uber外送」　邱偲琹爆料：他車子很髒！\n",
            "1  2020/02/03 14:36       論壇                    張誠／談雄三飛彈增程的意義\n",
            "2  2020/02/03 14:33       地方            桃園竹圍漁港膠筏竄火苗　海巡消防滅火速搶救\n",
            "3  2020/02/03 14:32       政治  黃捷收到5張「金紙」　網蓋樓「給女神的無誤」狂酸恐嚇者買錯顏色\n",
            "4  2020/02/03 14:30       論壇           【名家看經濟】李沃牆／英國正式脫歐挑戰才開始\n",
            "----------------------------------------------------------------------------------------------------\n"
          ],
          "name": "stdout"
        }
      ]
    },
    {
      "cell_type": "code",
      "metadata": {
        "id": "dh9PH-WzoDQx",
        "colab_type": "code",
        "colab": {
          "base_uri": "https://localhost:8080/",
          "height": 289
        },
        "outputId": "d50e0885-a3fe-4ee1-9ae6-0825f3f23065"
      },
      "source": [
        "# 方法二：利用 threading 的 Timer\n",
        "\n",
        "import time\n",
        "from threading import Timer\n",
        "\n",
        "def printHello(count):\n",
        "    now_time = time.strftime('%Y-%m-%d %X', time.localtime())\n",
        "\n",
        "    print(f'count',count,now_time)\n",
        "    hourNews(url)  # 呼叫焦點新聞\n",
        "\n",
        "    t = Timer(10, printHello, (count,)) \n",
        "    t.start() \n",
        "\n",
        "\n",
        "count = 1\n",
        "while True:\n",
        "    printHello(count)\n",
        "    \n",
        "    print('-' * 100)\n",
        "\n",
        "    count += 1\n",
        "    if count >= 3:\n",
        "        break"
      ],
      "execution_count": 4,
      "outputs": [
        {
          "output_type": "stream",
          "text": [
            "count 1 2020-02-03 06:37:34\n",
            "               date catagoly                            topic\n",
            "0  2020/02/03 14:36       影劇   張洛偍交良民證「想跑Uber外送」　邱偲琹爆料：他車子很髒！\n",
            "1  2020/02/03 14:36       論壇                    張誠／談雄三飛彈增程的意義\n",
            "2  2020/02/03 14:33       地方            桃園竹圍漁港膠筏竄火苗　海巡消防滅火速搶救\n",
            "3  2020/02/03 14:32       政治  黃捷收到5張「金紙」　網蓋樓「給女神的無誤」狂酸恐嚇者買錯顏色\n",
            "4  2020/02/03 14:30       論壇           【名家看經濟】李沃牆／英國正式脫歐挑戰才開始\n",
            "----------------------------------------------------------------------------------------------------\n",
            "count 2 2020-02-03 06:37:35\n",
            "               date catagoly                            topic\n",
            "0  2020/02/03 14:36       影劇   張洛偍交良民證「想跑Uber外送」　邱偲琹爆料：他車子很髒！\n",
            "1  2020/02/03 14:36       論壇                    張誠／談雄三飛彈增程的意義\n",
            "2  2020/02/03 14:33       地方            桃園竹圍漁港膠筏竄火苗　海巡消防滅火速搶救\n",
            "3  2020/02/03 14:32       政治  黃捷收到5張「金紙」　網蓋樓「給女神的無誤」狂酸恐嚇者買錯顏色\n",
            "4  2020/02/03 14:30       論壇           【名家看經濟】李沃牆／英國正式脫歐挑戰才開始\n",
            "----------------------------------------------------------------------------------------------------\n"
          ],
          "name": "stdout"
        }
      ]
    },
    {
      "cell_type": "code",
      "metadata": {
        "id": "1YpS50eGoiYX",
        "colab_type": "code",
        "colab": {
          "base_uri": "https://localhost:8080/",
          "height": 493
        },
        "outputId": "dc3a6028-66d2-4015-f46f-8f7b594108da"
      },
      "source": [
        "# 方法三：第三方套件 schedule\n",
        "\n",
        "# ! pip install schedule\n",
        "\n",
        "import schedule\n",
        "import time\n",
        "\n",
        "def job():        \n",
        "    now_time = time.strftime('%Y-%m-%d %X', time.localtime())\n",
        "    hourNews(url)  # 呼叫焦點新聞\n",
        "\n",
        "\n",
        "count = 1\n",
        "while True:\n",
        "    \n",
        "    schedule.every(10).seconds.do(job)\n",
        "\n",
        "    print(f'count',count)\n",
        "    \n",
        "    schedule.run_pending()\n",
        "    \n",
        "    count += 1\n",
        "    if count >= 5:\n",
        "        break"
      ],
      "execution_count": 6,
      "outputs": [
        {
          "output_type": "stream",
          "text": [
            "count 1\n",
            "               date catagoly                            topic\n",
            "0  2020/02/03 14:36       影劇   張洛偍交良民證「想跑Uber外送」　邱偲琹爆料：他車子很髒！\n",
            "1  2020/02/03 14:36       論壇                    張誠／談雄三飛彈增程的意義\n",
            "2  2020/02/03 14:33       地方            桃園竹圍漁港膠筏竄火苗　海巡消防滅火速搶救\n",
            "3  2020/02/03 14:32       政治  黃捷收到5張「金紙」　網蓋樓「給女神的無誤」狂酸恐嚇者買錯顏色\n",
            "4  2020/02/03 14:30       論壇           【名家看經濟】李沃牆／英國正式脫歐挑戰才開始\n",
            "               date catagoly                            topic\n",
            "0  2020/02/03 14:36       影劇   張洛偍交良民證「想跑Uber外送」　邱偲琹爆料：他車子很髒！\n",
            "1  2020/02/03 14:36       論壇                    張誠／談雄三飛彈增程的意義\n",
            "2  2020/02/03 14:33       地方            桃園竹圍漁港膠筏竄火苗　海巡消防滅火速搶救\n",
            "3  2020/02/03 14:32       政治  黃捷收到5張「金紙」　網蓋樓「給女神的無誤」狂酸恐嚇者買錯顏色\n",
            "4  2020/02/03 14:30       論壇           【名家看經濟】李沃牆／英國正式脫歐挑戰才開始\n",
            "               date catagoly                            topic\n",
            "0  2020/02/03 14:36       影劇   張洛偍交良民證「想跑Uber外送」　邱偲琹爆料：他車子很髒！\n",
            "1  2020/02/03 14:36       論壇                    張誠／談雄三飛彈增程的意義\n",
            "2  2020/02/03 14:33       地方            桃園竹圍漁港膠筏竄火苗　海巡消防滅火速搶救\n",
            "3  2020/02/03 14:32       政治  黃捷收到5張「金紙」　網蓋樓「給女神的無誤」狂酸恐嚇者買錯顏色\n",
            "4  2020/02/03 14:30       論壇           【名家看經濟】李沃牆／英國正式脫歐挑戰才開始\n",
            "               date catagoly                            topic\n",
            "0  2020/02/03 14:36       影劇   張洛偍交良民證「想跑Uber外送」　邱偲琹爆料：他車子很髒！\n",
            "1  2020/02/03 14:36       論壇                    張誠／談雄三飛彈增程的意義\n",
            "2  2020/02/03 14:33       地方            桃園竹圍漁港膠筏竄火苗　海巡消防滅火速搶救\n",
            "3  2020/02/03 14:32       政治  黃捷收到5張「金紙」　網蓋樓「給女神的無誤」狂酸恐嚇者買錯顏色\n",
            "4  2020/02/03 14:30       論壇           【名家看經濟】李沃牆／英國正式脫歐挑戰才開始\n",
            "count 2\n",
            "count 3\n",
            "count 4\n"
          ],
          "name": "stdout"
        }
      ]
    }
  ]
}