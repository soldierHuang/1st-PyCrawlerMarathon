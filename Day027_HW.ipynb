{
  "nbformat": 4,
  "nbformat_minor": 0,
  "metadata": {
    "colab": {
      "name": "Day027_HW.ipynb",
      "provenance": [],
      "collapsed_sections": []
    },
    "kernelspec": {
      "name": "python3",
      "display_name": "Python 3"
    }
  },
  "cells": [
    {
      "cell_type": "markdown",
      "metadata": {
        "id": "bKJ1f5exgzho",
        "colab_type": "text"
      },
      "source": [
        "![Scrapy word-flow](http://doc.scrapy.org/en/latest/_images/scrapy_architecture_02.png)"
      ]
    },
    {
      "cell_type": "markdown",
      "metadata": {
        "id": "gbpNiUFa49Y9",
        "colab_type": "text"
      },
      "source": [
        "[Scrapy 爬蟲入門教程](https://codertw.com/%E7%A8%8B%E5%BC%8F%E8%AA%9E%E8%A8%80/507032/)\n",
        "\n",
        "[Scrapy command Line](https://www.shangyang.me/2017/07/19/scrapy-learning-3-command-line-tool/)\n"
      ]
    },
    {
      "cell_type": "code",
      "metadata": {
        "id": "QExFvvbMgwMO",
        "colab_type": "code",
        "colab": {}
      },
      "source": [
        "# 安裝 Scrapy\n",
        "# !pip install Scrapy\n",
        "\n",
        "# 下載資料檔\n",
        "# !curl -o myfile.zip \"http://pycrawler.cupoy.com/file-download/part27/Day027_Scrapy_item.zip\"\n",
        "# !unzip myfile.zip -d \"./\""
      ],
      "execution_count": 0,
      "outputs": []
    },
    {
      "cell_type": "code",
      "metadata": {
        "id": "APH30s-ahCkQ",
        "colab_type": "code",
        "colab": {
          "base_uri": "https://localhost:8080/",
          "height": 1000
        },
        "outputId": "f233326f-d239-40d5-f701-12cf74cf1b99"
      },
      "source": [
        "# 查詢 Scrapy 功能\n",
        "# !scrapy -h\n",
        "\n",
        "# 建立 Scrapy project\n",
        "# !scrapy startproject myproject ./\n",
        "\n",
        "# 建立 Scrapy 檔案 --spider\n",
        "# !scrapy genspider PTTCrawler www.ptt.cc\n",
        "# !cat ./myproject/myproject/spiders/PTTCrawler.py\n",
        "\n",
        "# 執行 Scrapy --spider\n",
        "!scrapy runspider ./myproject/myproject/spiders/PTTCrawler.py -o ./myproject/collection/PTTCrawler.json\n",
        "\n",
        "# 查看 網頁資料\n",
        "# !scrapy view 'https://www.ptt.cc/bbs/Gossiping/M.1557928779.A.0C1.html'"
      ],
      "execution_count": 2,
      "outputs": [
        {
          "output_type": "stream",
          "text": [
            "2019-12-31 08:16:36 [scrapy.utils.log] INFO: Scrapy 1.8.0 started (bot: scrapybot)\n",
            "2019-12-31 08:16:36 [scrapy.utils.log] INFO: Versions: lxml 4.2.6.0, libxml2 2.9.8, cssselect 1.1.0, parsel 1.5.2, w3lib 1.21.0, Twisted 19.10.0, Python 3.6.9 (default, Nov  7 2019, 10:44:02) - [GCC 8.3.0], pyOpenSSL 19.1.0 (OpenSSL 1.1.1d  10 Sep 2019), cryptography 2.8, Platform Linux-4.14.137+-x86_64-with-Ubuntu-18.04-bionic\n",
            "PttcrawlerSpider\n",
            "2019-12-31 08:16:36 [scrapy.crawler] INFO: Overridden settings: {'FEED_FORMAT': 'json', 'FEED_URI': './myproject/collection/PTTCrawler.json', 'SPIDER_LOADER_WARN_ONLY': True}\n",
            "2019-12-31 08:16:36 [scrapy.extensions.telnet] INFO: Telnet Password: 604bd228a566d1e0\n",
            "2019-12-31 08:16:36 [scrapy.middleware] INFO: Enabled extensions:\n",
            "['scrapy.extensions.corestats.CoreStats',\n",
            " 'scrapy.extensions.telnet.TelnetConsole',\n",
            " 'scrapy.extensions.memusage.MemoryUsage',\n",
            " 'scrapy.extensions.feedexport.FeedExporter',\n",
            " 'scrapy.extensions.logstats.LogStats']\n",
            "2019-12-31 08:16:37 [scrapy.middleware] INFO: Enabled downloader middlewares:\n",
            "['scrapy.downloadermiddlewares.httpauth.HttpAuthMiddleware',\n",
            " 'scrapy.downloadermiddlewares.downloadtimeout.DownloadTimeoutMiddleware',\n",
            " 'scrapy.downloadermiddlewares.defaultheaders.DefaultHeadersMiddleware',\n",
            " 'scrapy.downloadermiddlewares.useragent.UserAgentMiddleware',\n",
            " 'scrapy.downloadermiddlewares.retry.RetryMiddleware',\n",
            " 'scrapy.downloadermiddlewares.redirect.MetaRefreshMiddleware',\n",
            " 'scrapy.downloadermiddlewares.httpcompression.HttpCompressionMiddleware',\n",
            " 'scrapy.downloadermiddlewares.redirect.RedirectMiddleware',\n",
            " 'scrapy.downloadermiddlewares.cookies.CookiesMiddleware',\n",
            " 'scrapy.downloadermiddlewares.httpproxy.HttpProxyMiddleware',\n",
            " 'scrapy.downloadermiddlewares.stats.DownloaderStats']\n",
            "2019-12-31 08:16:37 [scrapy.middleware] INFO: Enabled spider middlewares:\n",
            "['scrapy.spidermiddlewares.httperror.HttpErrorMiddleware',\n",
            " 'scrapy.spidermiddlewares.offsite.OffsiteMiddleware',\n",
            " 'scrapy.spidermiddlewares.referer.RefererMiddleware',\n",
            " 'scrapy.spidermiddlewares.urllength.UrlLengthMiddleware',\n",
            " 'scrapy.spidermiddlewares.depth.DepthMiddleware']\n",
            "2019-12-31 08:16:37 [scrapy.middleware] INFO: Enabled item pipelines:\n",
            "[]\n",
            "2019-12-31 08:16:37 [scrapy.core.engine] INFO: Spider opened\n",
            "2019-12-31 08:16:37 [scrapy.extensions.logstats] INFO: Crawled 0 pages (at 0 pages/min), scraped 0 items (at 0 items/min)\n",
            "2019-12-31 08:16:37 [scrapy.extensions.telnet] INFO: Telnet console listening on 127.0.0.1:6023\n",
            "2019-12-31 08:16:38 [scrapy.core.engine] DEBUG: Crawled (200) <GET https://www.ptt.cc/bbs/Gossiping/M.1557928779.A.0C1.html> (referer: None)\n",
            "/content/myproject/myproject/spiders/PTTCrawler.py:26: UserWarning: No parser was explicitly specified, so I'm using the best available HTML parser for this system (\"lxml\"). This usually isn't a problem, but if you run this code on another system, or in a different virtual environment, it may use a different parser and behave differently.\n",
            "\n",
            "The code that caused this warning is on line 26 of the file /content/myproject/myproject/spiders/PTTCrawler.py. To get rid of this warning, pass the additional argument 'features=\"lxml\"' to the BeautifulSoup constructor.\n",
            "\n",
            "  soup = BeautifulSoup(response.text)\n",
            "2019-12-31 08:16:38 [scrapy.core.scraper] DEBUG: Scraped from <200 https://www.ptt.cc/bbs/Gossiping/M.1557928779.A.0C1.html>\n",
            "{'url': 'https://www.ptt.cc/bbs/Gossiping/M.1557928779.A.0C1.html', 'article_author': 'hahaccu (靠臉吃飯的小魯)', 'article_title': '[問卦] 請家人吃飯好店推薦', 'article_date': 'Wed May 15 21:59:37 2019', 'article_content': '大家好，台嘎後，打給後\\n\\n本肥請家人吃飯\\n\\n每次只能想到欣葉，馬辣等吃到飽沒新意的店\\n\\n有沒有厲害有特色的店可以推薦\\n\\n謝謝\\n\\n https://www.ptt.cc/bbs/Gossiping/M.1557928779.A.0C1.html 對，北部 味道不是都一樣ㄇ (筆記)', 'ip': '111.71.55.130', 'message_count': {'all': 12, 'count': 0, 'push': 2, 'boo': 2, 'neutral': 8}, 'messages': [{'push_tag': '→', 'push_userid': 'uuyouru', 'push_content': '住哪', 'push_ipdatetime': '05/15 21:59'}, {'push_tag': '噓', 'push_userid': 'DsLove710', 'push_content': '麥當勞', 'push_ipdatetime': '05/15 21:59'}, {'push_tag': '→', 'push_userid': 'uuyouru', 'push_content': '台北ㄇ', 'push_ipdatetime': '05/15 22:00'}, {'push_tag': '→', 'push_userid': 'hawaii987', 'push_content': '你家巷口', 'push_ipdatetime': '05/15 22:00'}, {'push_tag': '噓', 'push_userid': 'Doub1eK', 'push_content': '我家巷口', 'push_ipdatetime': '05/15 22:00'}, {'push_tag': '推', 'push_userid': 'pipi8696044', 'push_content': '台科大自助餐', 'push_ipdatetime': '05/15 22:00'}, {'push_tag': '→', 'push_userid': 'tyrande', 'push_content': 'M記快餐 K記快餐', 'push_ipdatetime': '05/15 22:00'}, {'push_tag': '→', 'push_userid': 'DongWooNeKo', 'push_content': '不知道', 'push_ipdatetime': '05/15 22:00'}, {'push_tag': '→', 'push_userid': 'JEWH', 'push_content': '女權', 'push_ipdatetime': '05/15 22:00'}, {'push_tag': '→', 'push_userid': 'guhong', 'push_content': '中壢家樂福一樓的三商巧福，好吃到舌頭掉下來', 'push_ipdatetime': '05/15 22:01'}, {'push_tag': '→', 'push_userid': 'alex00089', 'push_content': '墾丁嗎？', 'push_ipdatetime': '05/15 22:04'}, {'push_tag': '推', 'push_userid': 'boboking2', 'push_content': '新馬辣', 'push_ipdatetime': '05/15 22:05'}]}\n",
            "2019-12-31 08:16:38 [scrapy.core.engine] INFO: Closing spider (finished)\n",
            "2019-12-31 08:16:38 [scrapy.extensions.feedexport] INFO: Stored json feed (1 items) in: ./myproject/collection/PTTCrawler.json\n",
            "2019-12-31 08:16:38 [scrapy.statscollectors] INFO: Dumping Scrapy stats:\n",
            "{'downloader/request_bytes': 264,\n",
            " 'downloader/request_count': 1,\n",
            " 'downloader/request_method_count/GET': 1,\n",
            " 'downloader/response_bytes': 2807,\n",
            " 'downloader/response_count': 1,\n",
            " 'downloader/response_status_count/200': 1,\n",
            " 'elapsed_time_seconds': 1.257108,\n",
            " 'finish_reason': 'finished',\n",
            " 'finish_time': datetime.datetime(2019, 12, 31, 8, 16, 38, 282603),\n",
            " 'item_scraped_count': 1,\n",
            " 'log_count/DEBUG': 2,\n",
            " 'log_count/INFO': 11,\n",
            " 'memusage/max': 94998528,\n",
            " 'memusage/startup': 94998528,\n",
            " 'response_received_count': 1,\n",
            " 'scheduler/dequeued': 1,\n",
            " 'scheduler/dequeued/memory': 1,\n",
            " 'scheduler/enqueued': 1,\n",
            " 'scheduler/enqueued/memory': 1,\n",
            " 'start_time': datetime.datetime(2019, 12, 31, 8, 16, 37, 25495)}\n",
            "2019-12-31 08:16:38 [scrapy.core.engine] INFO: Spider closed (finished)\n"
          ],
          "name": "stdout"
        }
      ]
    },
    {
      "cell_type": "code",
      "metadata": {
        "id": "8OmvEdSb_LsN",
        "colab_type": "code",
        "colab": {}
      },
      "source": [
        "import zipfile\n",
        "import os\n",
        "\n",
        "with zipfile.ZipFile('myproject.zip', 'w') as myzip:\n",
        "  \n",
        "  for root, folders, files in os.walk(\"./myproject\"):\n",
        "        for sfile in files:\n",
        "            aFile = os.path.join(root, sfile)\n",
        "            #print aFile\n",
        "            myzip.write(aFile)"
      ],
      "execution_count": 0,
      "outputs": []
    }
  ]
}