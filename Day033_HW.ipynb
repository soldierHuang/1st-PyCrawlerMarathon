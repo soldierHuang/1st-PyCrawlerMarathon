{
  "nbformat": 4,
  "nbformat_minor": 0,
  "metadata": {
    "kernelspec": {
      "display_name": "Python 3",
      "language": "python",
      "name": "python3"
    },
    "language_info": {
      "codemirror_mode": {
        "name": "ipython",
        "version": 3
      },
      "file_extension": ".py",
      "mimetype": "text/x-python",
      "name": "python",
      "nbconvert_exporter": "python",
      "pygments_lexer": "ipython3",
      "version": "3.6.5"
    },
    "colab": {
      "name": "Day033_HW.ipynb",
      "provenance": [],
      "collapsed_sections": [],
      "toc_visible": true
    }
  },
  "cells": [
    {
      "cell_type": "markdown",
      "metadata": {
        "id": "iK5lxN1tVUR4",
        "colab_type": "text"
      },
      "source": [
        "# 反爬：登入授權模擬\n",
        "\n",
        "* 了解「登入權限機制」的反爬蟲機制\n",
        "* 「登入權限機制」反爬蟲的因應策略"
      ]
    },
    {
      "cell_type": "markdown",
      "metadata": {
        "id": "OFq3eWAEVUR6",
        "colab_type": "text"
      },
      "source": [
        "## 作業目標\n",
        "\n",
        "* 找一個需要登入的網站試試看，並說明思考流程\n",
        "（如果不知道要用哪個網站的話，可以試試看 https://github.com/new 網址，未登入時會被導向登入頁）\n",
        "\n"
      ]
    },
    {
      "cell_type": "code",
      "metadata": {
        "id": "7ojAHxMTVUR7",
        "colab_type": "code",
        "colab": {}
      },
      "source": [
        "import requests\n",
        "from bs4 import BeautifulSoup\n",
        "\n",
        "url = 'https://github.com/new'\n"
      ],
      "execution_count": 0,
      "outputs": []
    },
    {
      "cell_type": "code",
      "metadata": {
        "id": "FZWjZO7xVUR_",
        "colab_type": "code",
        "colab": {
          "base_uri": "https://localhost:8080/",
          "height": 55
        },
        "outputId": "732d2e3c-2a88-4d26-d427-120ee647504d"
      },
      "source": [
        "# 未加入 cookie 無法登入\n",
        "\n",
        "resp = requests.get(url)\n",
        "soup = BeautifulSoup(resp.text, 'html.parser')\n",
        "\n",
        "print(soup.text.replace('\\n',''))"
      ],
      "execution_count": 2,
      "outputs": [
        {
          "output_type": "stream",
          "text": [
            "Sign in to GitHub · GitHubSkip to content Sign in to GitHub          Username or email address                  Password Forgot password?        New to GitHub?        Create an account.      TermsPrivacySecurityContact GitHub    You can’t perform that action at this time.  You signed in with another tab or window. Reload to refresh your session.You signed out in another tab or window. Reload to refresh your session.\n"
          ],
          "name": "stdout"
        }
      ]
    },
    {
      "cell_type": "code",
      "metadata": {
        "id": "RhUL8o6RV20R",
        "colab_type": "code",
        "colab": {
          "base_uri": "https://localhost:8080/",
          "height": 91
        },
        "outputId": "87ab31d9-23c4-41ee-b9aa-ef54304e246f"
      },
      "source": [
        "# 在請求中帶入 cookie後登入\n",
        "\n",
        "cookies = {\n",
        "    'logged_in':'yes',\n",
        "    'user_session':'＊＊＊＊＊＊＊＊＊＊＊＊',\n",
        "    'dotcom_user': '＊＊＊＊＊＊＊＊＊＊＊＊',\n",
        "    'has_recent_activity': '1',\n",
        "}\n",
        "\n",
        "resp = requests.get(url, verify=False, cookies=cookies) \n",
        "soup = BeautifulSoup(resp.text, 'html.parser')\n",
        "\n",
        "print(soup.text.replace('\\n',''))"
      ],
      "execution_count": 3,
      "outputs": [
        {
          "output_type": "stream",
          "text": [
            "/usr/local/lib/python3.6/dist-packages/urllib3/connectionpool.py:847: InsecureRequestWarning: Unverified HTTPS request is being made. Adding certificate verification is strongly advised. See: https://urllib3.readthedocs.io/en/latest/advanced-usage.html#ssl-warnings\n",
            "  InsecureRequestWarning)\n"
          ],
          "name": "stderr"
        },
        {
          "output_type": "stream",
          "text": [
            "Create a New RepositorySkip to content        Search              All GitHub      ↵      Jump to      ↵No suggested jump to results        Search              All GitHub      ↵      Jump to      ↵        Search              All GitHub      ↵      Jump to      ↵     Pull requests    Issues        Marketplace    Explore   New repository    Import repository    New gist    New organization      New project  Signed in as soldierHuangSet statusEdit statusCould not update your status, please try again.              80 remaining            Suggestions:🌴                          On vacation                        🤒                          Out sick                        🏠                          Working from home                        🎯                          Focusing                                          Busy                                  When others mention you, assign you, or request your review,                  GitHub will let them know that you have limited availability.                    Clear status          Never      NeverKeep this status until you clear your status or edit your status.            in 30 minutes                      in 1 hour                      in 4 hours                      today                      this week                      Set status                      Clear status           Your profileYour repositoriesYour projectsYour starsYour gists    Feature preview  HelpSettings        Sign out       Create a new repository      A repository contains all project files, including the revision history.        Already have a project repository elsewhere? Import a repository.Owner    soldierHuang        soldierHuang    /Repository name        Great repository names are short and memorable. Need inspiration? How about        solid-octo-journey?      Description (optional)          Public                    Anyone can see this repository. You choose who can commit.                  You may not create public repositories by organization policy.                  Private                  You choose who can see and commit to this repository.                  You may not create private repositories by organization policy.                  Due to U.S. trade controls law restrictions, paid GitHub organization services have been restricted.For free organization accounts, you may have access to free GitHub public repository services (such as access to GitHub Pages and public repositories used for open source projects) for personal communications only, and not for commercial purposes. The restriction also includes suspended access to private repository services and paid services (such as availability of private organizational accounts and GitHub Marketplace services).Please read about GitHub and Trade Controls for more information.                  Due to U.S. trade controls law restrictions, your GitHub account has been restricted.This means we have suspended access to private repository services and paid services for your account. For free individual accounts, you still have access to free GitHub public repository services (such as public repositories for open source projects and associated GitHub Pages and Gists).If you believe your account has been flagged in error, and you are not located in or resident in a sanctioned region, please file an appeal.Please read about GitHub and Trade Controls for more information.                  Your current plan does not support private repositories.                          Your organization's owners will need to upgrade to Team.            Skip this step if you’re importing an existing repository.            Initialize this repository with a README                      This will let you immediately clone the repository to your computer.          Add .gitignore:None.gitignoreNoneActionscriptAdaAgdaAndroidAppEngineAppceleratorTitaniumArchLinuxPackagesAutotoolsCC++CFWheelsCMakeCUDACakePHPChefCookbookClojureCodeIgniterCommonLispComposerConcrete5CoqCraftCMSDDMDartDelphiDrupalEPiServerEagleElispElixirElmErlangExpressionEngineExtJsFancyFinaleForceDotComFortranFuelPHPGWTGitBookGoGodotGradleGrailsHaskellIGORProIdrisJENKINS_HOMEJavaJbossJekyllJoomlaJuliaKiCADKohanaKotlinLabVIEWLaravelLeiningenLemonStandLilypondLithiumLuaMagentoMavenMercuryMetaProgrammingSystemNimNodeOCamlObjective-COpaOracleFormsPackerPerlPerl6PhalconPlayFrameworkPlonePrestashopProcessingPureScriptPythonQooxdooQtRROSRailsRhodesRhomobileRubyRustSConsSassScalaSchemeScrivenerSdccSeamGenSketchUpSmalltalkSugarCRMSwiftSymfonySymphonyCMSTeXTerraformTextpatternTurboGears2Typo3UmbracoUnityUnrealEngineVVVVVisualStudioWafWordPressXojoYeomanYiiZendFrameworkZephirgcovnanocopencartstellaNothing to showAdd a license:NoneLicensesNoneApache License 2.0GNU General Public License v3.0MIT LicenseBSD 2-Clause \"Simplified\" LicenseBSD 3-Clause \"New\" or \"Revised\" LicenseCreative Commons Zero v1.0 UniversalEclipse Public License 2.0GNU Affero General Public License v3.0GNU General Public License v2.0GNU Lesser General Public License v2.1GNU Lesser General Public License v3.0Mozilla Public License 2.0The UnlicenseNothing to show        Create repository              You don’t appear to have permission to create repositories for this organization. Sorry about that.      © 2020 GitHub, Inc.TermsPrivacySecurityStatusHelpContact GitHubPricingAPITrainingBlogAbout    You can’t perform that action at this time.  You signed in with another tab or window. Reload to refresh your session.You signed out in another tab or window. Reload to refresh your session.\n"
          ],
          "name": "stdout"
        }
      ]
    }
  ]
}