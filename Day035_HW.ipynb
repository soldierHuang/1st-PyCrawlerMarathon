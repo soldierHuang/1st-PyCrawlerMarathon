{
  "nbformat": 4,
  "nbformat_minor": 0,
  "metadata": {
    "colab": {
      "name": "Day035_HW.ipynb",
      "provenance": []
    },
    "kernelspec": {
      "display_name": "Python 3",
      "language": "python",
      "name": "python3"
    },
    "language_info": {
      "codemirror_mode": {
        "name": "ipython",
        "version": 3
      },
      "file_extension": ".py",
      "mimetype": "text/x-python",
      "name": "python",
      "nbconvert_exporter": "python",
      "pygments_lexer": "ipython3",
      "version": "3.6.5"
    }
  },
  "cells": [
    {
      "cell_type": "markdown",
      "metadata": {
        "id": "w67j2E3xXotv",
        "colab_type": "text"
      },
      "source": [
        "# 加速：多線程爬蟲\n",
        "\n",
        "\n",
        "\n",
        "* 了解知乎 API 使用方式與回傳內容\n",
        "* 撰寫程式存取 API 且添加標頭"
      ]
    },
    {
      "cell_type": "markdown",
      "metadata": {
        "id": "nbYyM5hMXotw",
        "colab_type": "text"
      },
      "source": [
        "## 作業目標\n",
        "\n",
        "* 找一個之前實作過的爬蟲改用多線程改寫，比較前後時間的差異。\n",
        "\n",
        "\n",
        "\n"
      ]
    },
    {
      "cell_type": "code",
      "metadata": {
        "id": "IgQsedxxXotx",
        "colab_type": "code",
        "colab": {
          "base_uri": "https://localhost:8080/",
          "height": 34
        },
        "outputId": "811a6082-2119-4b21-e7fd-0e2cc1a883fd"
      },
      "source": [
        "import requests\n",
        "import time\n",
        "\n",
        "urls = ['https://www.ettoday.net/news/news-list.htm'] * 5\n",
        "\n",
        "startTime = time.time()\n",
        "\n",
        "for url in urls:\n",
        "    requests.get(url)\n",
        "\n",
        "finishTime = time.time()\n",
        "print(finishTime - startTime) # 正常情況的爬蟲所需時間"
      ],
      "execution_count": 1,
      "outputs": [
        {
          "output_type": "stream",
          "text": [
            "4.2997050285339355\n"
          ],
          "name": "stdout"
        }
      ]
    },
    {
      "cell_type": "code",
      "metadata": {
        "id": "qW5v4NnLXot1",
        "colab_type": "code",
        "colab": {
          "base_uri": "https://localhost:8080/",
          "height": 34
        },
        "outputId": "24f6f197-1d01-45ff-f0cf-d6e3f018c24a"
      },
      "source": [
        "import requests\n",
        "import _thread\n",
        "import time\n",
        "\n",
        "urls = ['https://www.ettoday.net/news/news-list.htm'] * 5\n",
        "\n",
        "startTime = time.time()\n",
        "\n",
        "for url in urls:\n",
        "    _thread.start_new_thread( requests.get, (url, ) )\n",
        "\n",
        "finishTime = time.time()\n",
        "print(finishTime - startTime) # 利用 thread 的爬蟲所需時間"
      ],
      "execution_count": 2,
      "outputs": [
        {
          "output_type": "stream",
          "text": [
            "0.0003154277801513672\n"
          ],
          "name": "stdout"
        }
      ]
    }
  ]
}