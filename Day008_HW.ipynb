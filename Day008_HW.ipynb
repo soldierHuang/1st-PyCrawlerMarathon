{
  "nbformat": 4,
  "nbformat_minor": 0,
  "metadata": {
    "kernelspec": {
      "display_name": "Python 3",
      "language": "python",
      "name": "python3"
    },
    "language_info": {
      "codemirror_mode": {
        "name": "ipython",
        "version": 3
      },
      "file_extension": ".py",
      "mimetype": "text/x-python",
      "name": "python",
      "nbconvert_exporter": "python",
      "pygments_lexer": "ipython3",
      "version": "3.6.5"
    },
    "colab": {
      "name": "Day008_HW.ipynb",
      "provenance": [],
      "toc_visible": true
    }
  },
  "cells": [
    {
      "cell_type": "markdown",
      "metadata": {
        "id": "OsyIF-y4Pa8G",
        "colab_type": "text"
      },
      "source": [
        "# 靜態網頁的資料爬蟲策略\n",
        "\n",
        "\n",
        "* 了解靜態網頁的資料爬蟲策略\n",
        "* 認識適用於靜態網頁爬蟲的相關套件工具：Request\n",
        "* 認識適用於靜態網頁爬蟲的相關套件工具：BeatifulSoup"
      ]
    },
    {
      "cell_type": "markdown",
      "metadata": {
        "id": "zST_2sz4Pa8I",
        "colab_type": "text"
      },
      "source": [
        "## 作業目標\n",
        "\n",
        "利用 Request + BeatifulSoup 爬取下列兩個網站內容並解析：\n",
        "\n",
        "1. Dcared 網址： https://www.dcard.tw/f\n",
        "2. 知乎： https://www.zhihu.com/explore\n",
        "\n",
        "並且回答下面問題：\n",
        "\n",
        "1. Request 取回之後該怎麼取出資料，資料型態是什麼？\n",
        "2. 為什麼要使用 BeatifulSoup 處理？處理後的型態是什麼？\n",
        "3. 觀察一下知乎回來的資料好像有點怪怪的，該怎麼解決？"
      ]
    },
    {
      "cell_type": "markdown",
      "metadata": {
        "id": "ETDEhUEXPa8J",
        "colab_type": "text"
      },
      "source": [
        "### 1. Dcard 網址： https://www.dcard.tw/f"
      ]
    },
    {
      "cell_type": "code",
      "metadata": {
        "id": "ej1vgvEzPa8K",
        "colab_type": "code",
        "colab": {}
      },
      "source": [
        "import requests\n",
        "from bs4 import BeautifulSoup"
      ],
      "execution_count": 0,
      "outputs": []
    },
    {
      "cell_type": "code",
      "metadata": {
        "id": "g6tJN1oyPa8O",
        "colab_type": "code",
        "colab": {
          "base_uri": "https://localhost:8080/",
          "height": 54
        },
        "outputId": "1caec1ce-85a3-484a-cd6b-8ca108ca8bd9"
      },
      "source": [
        "url = 'https://www.dcard.tw/f'\n",
        "\n",
        "headers = {'user-agent': 'my-app/0.0.1'}\n",
        "\n",
        "r = requests.get(url,headers=headers)\n",
        "\n",
        "r.encoding = 'utf-8'\n",
        "print(r.text[0:3000])"
      ],
      "execution_count": 2,
      "outputs": [
        {
          "output_type": "stream",
          "text": [
            "<!DOCTYPE html><html lang=\"zh-Hant-TW\"><head prefix=\"og: http://ogp.me/ns#\" itemscope=\"\" itemType=\"https://schema.org/WebSite\"><title data-react-helmet=\"true\">Dcard</title><meta data-react-helmet=\"true\" property=\"og:image\" content=\"https://www.dcard.tw/build/landing-c9e7b8fb.png\"/><meta data-react-helmet=\"true\" property=\"og:image:secure_url\" content=\"https://www.dcard.tw/build/landing-c9e7b8fb.png\"/><meta data-react-helmet=\"true\" charSet=\"utf-8\"/><meta data-react-helmet=\"true\" http-equiv=\"X-UA-Compatible\" content=\"IE=edge\"/><meta data-react-helmet=\"true\" name=\"application-name\" content=\"Dcard\"/><meta data-react-helmet=\"true\" name=\"apple-itunes-app\" content=\"app-id=951353454\"/><meta data-react-helmet=\"true\" name=\"theme-color\" content=\"#006aa6\"/><meta data-react-helmet=\"true\" name=\"mobile-web-app-capable\" content=\"yes\"/><meta data-react-helmet=\"true\" name=\"apple-mobile-web-app-capable\" content=\"yes\"/><meta data-react-helmet=\"true\" property=\"fb:app_id\" content=\"211628828926493\"/><meta data-react-helmet=\"true\" property=\"fb:pages\" content=\"178875832200695,577748865730563,1333515469994506,619122564952487,804004803032067,178024805867764\"/><meta data-react-helmet=\"true\" property=\"al:ios:app_store_id\" content=\"951353454\"/><meta data-react-helmet=\"true\" property=\"al:ios:app_name\" content=\"Dcard\"/><meta data-react-helmet=\"true\" property=\"al:android:package\" content=\"com.sparkslab.dcardreader\"/><meta data-react-helmet=\"true\" property=\"al:android:app_name\" content=\"Dcard\"/><meta data-react-helmet=\"true\" property=\"og:type\" content=\"website\"/><meta data-react-helmet=\"true\" property=\"og:site_name\" content=\"Dcard\"/><meta data-react-helmet=\"true\" property=\"og:title\" content=\"Dcard\"/><meta data-react-helmet=\"true\" property=\"og:url\" content=\"https://www.dcard.tw/f\"/><meta data-react-helmet=\"true\" name=\"description\" content=\"廣受年輕人喜愛的  Dcard  是台灣最大的匿名交流平台，舉凡時事話題、感情心情、吃喝玩樂、學習工作等，都有卡友陪你聊！\"/><meta data-react-helmet=\"true\" property=\"og:description\" content=\"廣受年輕人喜愛的  Dcard  是台灣最大的匿名交流平台，舉凡時事話題、感情心情、吃喝玩樂、學習工作等，都有卡友陪你聊！\"/><meta data-react-helmet=\"true\" property=\"al:ios:url\" content=\"dcard://category/all/全部/hot\"/><meta data-react-helmet=\"true\" property=\"al:android:url\" content=\"dcard://category/all/全部/hot\"/><link data-react-helmet=\"true\" rel=\"icon\" sizes=\"32x32\" type=\"image/png\" href=\"/build/favicon_32-44259074.png\"/><link data-react-helmet=\"true\" rel=\"icon\" sizes=\"72x72\" type=\"image/png\" href=\"/build/favicon_72-45b1e0ba.png\"/><link data-react-helmet=\"true\" rel=\"icon\" sizes=\"512x512\" type=\"image/png\" href=\"/build/favicon_512-8aee0703.png\"/><link data-react-helmet=\"true\" rel=\"apple-touch-icon-precomposed\" href=\"/build/favicon_144-79557003.png\"/><link data-react-helmet=\"true\" rel=\"apple-touch-icon-precomposed\" href=\"/build/favicon_114-4a463b43.png\"/><link data-react-helmet=\"true\" rel=\"apple-touch-icon-precomposed\" href=\"/build/favicon_72-45b1e0ba.png\"/><link data-react-helmet=\"true\" rel=\"apple-touch-icon-precomposed\" href=\"/build/favicon_57-835f1693.png\"/><link data-react-helm\n"
          ],
          "name": "stdout"
        }
      ]
    },
    {
      "cell_type": "code",
      "metadata": {
        "id": "-ryVPiNZPa8S",
        "colab_type": "code",
        "colab": {
          "base_uri": "https://localhost:8080/",
          "height": 51
        },
        "outputId": "ba6a40f6-269d-4f03-d5a7-9ddfbb6abc21"
      },
      "source": [
        "print('Request 取回之後該怎麼取出資料，資料型態是什麼？ =>')\n",
        "\n",
        "type(r.text)"
      ],
      "execution_count": 3,
      "outputs": [
        {
          "output_type": "stream",
          "text": [
            "Request 取回之後該怎麼取出資料，資料型態是什麼？ =>\n"
          ],
          "name": "stdout"
        },
        {
          "output_type": "execute_result",
          "data": {
            "text/plain": [
              "str"
            ]
          },
          "metadata": {
            "tags": []
          },
          "execution_count": 3
        }
      ]
    },
    {
      "cell_type": "code",
      "metadata": {
        "id": "TNcvk0f6Pa8V",
        "colab_type": "code",
        "colab": {
          "base_uri": "https://localhost:8080/",
          "height": 51
        },
        "outputId": "4fb09000-6054-4d6b-d91a-0df2df7972f8"
      },
      "source": [
        "print('為什麼要使用 BeatifulSoup 處理？處理後的型態是什麼？ => ')\n",
        "\n",
        "soup = BeautifulSoup(r.text, \"html5lib\")\n",
        "type(soup)"
      ],
      "execution_count": 4,
      "outputs": [
        {
          "output_type": "stream",
          "text": [
            "為什麼要使用 BeatifulSoup 處理？處理後的型態是什麼？ => \n"
          ],
          "name": "stdout"
        },
        {
          "output_type": "execute_result",
          "data": {
            "text/plain": [
              "bs4.BeautifulSoup"
            ]
          },
          "metadata": {
            "tags": []
          },
          "execution_count": 4
        }
      ]
    },
    {
      "cell_type": "markdown",
      "metadata": {
        "id": "jqT4IGrgPa8X",
        "colab_type": "text"
      },
      "source": [
        "### 2. 知乎： https://www.zhihu.com/explore"
      ]
    },
    {
      "cell_type": "code",
      "metadata": {
        "id": "ib0SKUf2Pa8Y",
        "colab_type": "code",
        "colab": {
          "base_uri": "https://localhost:8080/",
          "height": 153
        },
        "outputId": "e69cdc4d-69e6-4413-c6a5-c255c40a1121"
      },
      "source": [
        "url = 'https://www.zhihu.com/explore'\n",
        "\n",
        "r = requests.get(url)\n",
        "r.encoding = 'utf-8'\n",
        "print(r.text[0:600])"
      ],
      "execution_count": 5,
      "outputs": [
        {
          "output_type": "stream",
          "text": [
            "<html>\r\n",
            "<head><title>400 Bad Request</title></head>\r\n",
            "<body bgcolor=\"white\">\r\n",
            "<center><h1>400 Bad Request</h1></center>\r\n",
            "<hr><center>openresty</center>\r\n",
            "</body>\r\n",
            "</html>\r\n",
            "\n"
          ],
          "name": "stdout"
        }
      ]
    },
    {
      "cell_type": "markdown",
      "metadata": {
        "id": "koHHiaajPa8b",
        "colab_type": "text"
      },
      "source": [
        "### 3. 觀察一下知乎回來的資料好像有點怪怪的，該怎麼解決？"
      ]
    },
    {
      "cell_type": "code",
      "metadata": {
        "id": "JpuZb06rPa8b",
        "colab_type": "code",
        "colab": {
          "base_uri": "https://localhost:8080/",
          "height": 71
        },
        "outputId": "49f5c560-98d4-45b8-8058-75a58d6c8830"
      },
      "source": [
        "import requests\n",
        "url = 'https://www.zhihu.com/explore'\n",
        "\n",
        "headers = {'user-agent': 'my-app/0.0.1'}\n",
        "r = requests.get(url,headers=headers)\n",
        "r.encoding = 'utf-8'\n",
        "print(r.text[0:600])"
      ],
      "execution_count": 6,
      "outputs": [
        {
          "output_type": "stream",
          "text": [
            "<!doctype html>\n",
            "<html lang=\"zh\" data-hairline=\"true\" data-theme=\"light\"><head><meta charSet=\"utf-8\"/><title data-react-helmet=\"true\">发现 - 知乎</title><meta name=\"viewport\" content=\"width=device-width,initial-scale=1,maximum-scale=1\"/><meta name=\"renderer\" content=\"webkit\"/><meta name=\"force-rendering\" content=\"webkit\"/><meta http-equiv=\"X-UA-Compatible\" content=\"IE=edge,chrome=1\"/><meta name=\"google-site-verification\" content=\"FTeR0c8arOPKh8c5DYh_9uu98_zJbaWw53J-Sch9MTg\"/><meta name=\"description\" property=\"og:description\" content=\"有问题，上知乎。知乎，可信赖的问答社区，以让每个人高效获得可信赖的解答为使命。知乎凭借认真、专业和友善的社区氛围，结构化、易获得的\n"
          ],
          "name": "stdout"
        }
      ]
    }
  ]
}