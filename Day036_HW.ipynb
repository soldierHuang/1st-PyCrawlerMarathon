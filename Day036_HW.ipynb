{
  "nbformat": 4,
  "nbformat_minor": 0,
  "metadata": {
    "colab": {
      "name": "Day036_HW.ipynb",
      "provenance": [],
      "collapsed_sections": []
    },
    "kernelspec": {
      "display_name": "Python 3",
      "language": "python",
      "name": "python3"
    },
    "language_info": {
      "codemirror_mode": {
        "name": "ipython",
        "version": 3
      },
      "file_extension": ".py",
      "mimetype": "text/x-python",
      "name": "python",
      "nbconvert_exporter": "python",
      "pygments_lexer": "ipython3",
      "version": "3.6.5"
    }
  },
  "cells": [
    {
      "cell_type": "markdown",
      "metadata": {
        "id": "5LLsvTOzl8xa",
        "colab_type": "text"
      },
      "source": [
        "# 加速：非同步爬蟲\n",
        "\n",
        "* 了解非同步爬蟲加速原理與實作"
      ]
    },
    {
      "cell_type": "markdown",
      "metadata": {
        "id": "EqrEw6rEl8xc",
        "colab_type": "text"
      },
      "source": [
        "## 作業目標\n",
        "\n",
        "* 比較一下非同步爬蟲跟多線程爬蟲的差異是什麼？各自的優缺點為何？"
      ]
    },
    {
      "cell_type": "markdown",
      "metadata": {
        "id": "vrJs1SNf8yf3",
        "colab_type": "text"
      },
      "source": [
        "[事件驅動](https://ifun01.com/NAIKFIC.html)\n",
        "\n",
        "\n",
        "[異步編程與多線程的區別](https://www.itread01.com/content/1553169850.html)\n",
        "\n",
        "![alt text](https://img.ifun01.com/images/2016/10/12/100723_uEHSSU.jpg!r550x0.jpg)"
      ]
    },
    {
      "cell_type": "code",
      "metadata": {
        "id": "S0Ld-6UDB4yJ",
        "colab_type": "code",
        "colab": {
          "base_uri": "https://localhost:8080/",
          "height": 34
        },
        "outputId": "0ad190f8-51a1-462e-b5f6-e2334dc11838"
      },
      "source": [
        "# 正常情況的爬蟲所需時間\n",
        "\n",
        "##  優點：順序執行。\n",
        "##  缺點：我不參與但是我要幹等著，效率低下。\n",
        "\n",
        "import requests\n",
        "import time\n",
        "\n",
        "urls = ['https://www.ettoday.net/news/news-list.htm'] * 5\n",
        "\n",
        "startTime = time.time()\n",
        "\n",
        "for url in urls:\n",
        "    r = requests.get(url)\n",
        "    # url = r.url\n",
        "    # print(url)\n",
        "\n",
        "finishTime = time.time()\n",
        "print(\"single thread:\", finishTime - startTime)  # 正常情況的爬蟲所需時間"
      ],
      "execution_count": 1,
      "outputs": [
        {
          "output_type": "stream",
          "text": [
            "single thread: 6.810043573379517\n"
          ],
          "name": "stdout"
        }
      ]
    },
    {
      "cell_type": "code",
      "metadata": {
        "id": "5GWNZ7oWCcMT",
        "colab_type": "code",
        "colab": {
          "base_uri": "https://localhost:8080/",
          "height": 34
        },
        "outputId": "f3857ed7-896a-4cd6-cfd4-e94c214b1b1f"
      },
      "source": [
        "# 多線程(執行緒)  \n",
        "\n",
        "##  優點：使用平行處理，在同一個時間可以執行多項任務，而達到多工的效果。\n",
        "##  缺點：只能在單個CPU Core下執行，線程間的共享變量可能造成死鎖的出現。\n",
        "\n",
        "import requests\n",
        "import _thread\n",
        "import time\n",
        "\n",
        "urls = ['https://www.ettoday.net/news/news-list.htm'] * 5\n",
        "\n",
        "startTime = time.time()\n",
        "\n",
        "for url in urls:\n",
        "    _thread.start_new_thread( requests.get, (url, ) )\n",
        "\n",
        "finishTime = time.time()\n",
        "print(\"multiple thread:\", finishTime - startTime) # 利用 thread 的爬蟲所需時間\n"
      ],
      "execution_count": 2,
      "outputs": [
        {
          "output_type": "stream",
          "text": [
            "multiple thread: 0.00037097930908203125\n"
          ],
          "name": "stdout"
        }
      ]
    },
    {
      "cell_type": "code",
      "metadata": {
        "id": "_GwAuGocBeTI",
        "colab_type": "code",
        "colab": {
          "base_uri": "https://localhost:8080/",
          "height": 34
        },
        "outputId": "687b9235-d773-4ec1-bc24-98cce8f9a657"
      },
      "source": [
        "# 非同步\n",
        "\n",
        "##  優點：可以不循序的執行程式，有效的利用系統資源。減少共享變量的數量 (減少了死鎖的可能)。\n",
        "##  缺點：每個請求在執行的過程中，主要使用回調方式進行處理，可能要消耗大量的系統資源。\n",
        "\n",
        "# !pip install aiohttp\n",
        "# !pip install nest_asyncio\n",
        "import aiohttp, asyncio\n",
        "import nest_asyncio\n",
        "nest_asyncio.apply()\n",
        "\n",
        "url = 'https://www.ettoday.net/news/news-list.htm'\n",
        "\n",
        "async def job(session):\n",
        "    response = await session.get(url)                               #等待並切換\n",
        "    return str(response.url)\n",
        "\n",
        "async def main(loop):\n",
        "    async with aiohttp.ClientSession() as session:                  #官網推薦建立Session的形式,也可以直接用request\n",
        "        tasks = [loop.create_task(job(session)) for _ in range(5)]\n",
        "        finished, unfinished = await asyncio.wait(tasks)            #收集完成的結果,會返回完成的和沒完成的,等全部都完成了才返回\n",
        "        # all_results = [r.result() for r in finished]              #獲取所有結果\n",
        "        # print(all_results)\n",
        "\n",
        "t1 = time.time()\n",
        "loop = asyncio.get_event_loop()\n",
        "loop.run_until_complete(main(loop))\n",
        "loop.close()\n",
        "print(\"Async total time:\", time.time() - t1)  # 利用非同步爬蟲所需時間"
      ],
      "execution_count": 3,
      "outputs": [
        {
          "output_type": "stream",
          "text": [
            "Async total time: 1.1076490879058838\n"
          ],
          "name": "stdout"
        }
      ]
    }
  ]
}