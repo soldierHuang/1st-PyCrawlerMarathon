{
  "nbformat": 4,
  "nbformat_minor": 0,
  "metadata": {
    "kernelspec": {
      "display_name": "Python 3",
      "language": "python",
      "name": "python3"
    },
    "language_info": {
      "codemirror_mode": {
        "name": "ipython",
        "version": 3
      },
      "file_extension": ".py",
      "mimetype": "text/x-python",
      "name": "python",
      "nbconvert_exporter": "python",
      "pygments_lexer": "ipython3",
      "version": "3.6.5"
    },
    "colab": {
      "name": "Day007_HW.ipynb",
      "provenance": [],
      "collapsed_sections": [],
      "toc_visible": true
    }
  },
  "cells": [
    {
      "cell_type": "markdown",
      "metadata": {
        "id": "n9rYTTzJAXrB",
        "colab_type": "text"
      },
      "source": [
        "# HTTP 靜態網頁架構說明\n",
        "\n",
        "* 認識靜態網頁的溝通架構與運作原理\n",
        "* HTML、CSS、JavaScript 在網頁中扮演的角色\n",
        "* 網頁中定位資料的方法"
      ]
    },
    {
      "cell_type": "markdown",
      "metadata": {
        "id": "__JES0EpAXrF",
        "colab_type": "text"
      },
      "source": [
        "## 作業目標\n",
        "\n",
        "1. （簡答題）請問目前提到的這種基於 HTTP 一來一回的網頁傳輸方式，有哪些缺點及問題？\n",
        "2. （簡答題）網頁中使用的 JavaScipt 程式語言，跟我們一般使用的 Python 在執行上有什麼不同。\n"
      ]
    },
    {
      "cell_type": "markdown",
      "metadata": {
        "id": "8cHO-qrjAXrG",
        "colab_type": "text"
      },
      "source": [
        "### 1.（簡答題）請問目前提到的這種基於 HTTP 一來一回的網頁傳輸方式，有哪些缺點及問題？"
      ]
    },
    {
      "cell_type": "markdown",
      "metadata": {
        "id": "dR6eV26RLv31",
        "colab_type": "text"
      },
      "source": [
        "選定 header ：\n",
        "* GET 取得資訊\n",
        "* POST 發布資訊\n",
        "* DELETE 刪除資訊\n",
        "* PUT 修改資訊\n",
        "\n",
        "傳輸時間耗費太多，給錯方式不work，連線異常說再見，下次再來\n",
        "\n",
        "![alt text](http://images0.cnblogs.com/blog2015/731178/201508/012351586269072.png)http://images0.cnblogs.com/blog2015/731178/201508/012351586269072.png\n",
        "\n",
        "![alt text](https://i2.wp.com/aiops.red/wp-content/uploads/2019/06/http_code1.jpg?fit=1200%2C675&ssl=1)https://i2.wp.com/aiops.red/wp-content/uploads/2019/06/http_code1.jpg?fit=1200%2C675&ssl=1\n",
        "\n",
        "![alt text](https://w3c.hexschool.com/img/73gecp.jpg)(https://w3c.hexschool.com/img/73gecp.jpg"
      ]
    },
    {
      "cell_type": "markdown",
      "metadata": {
        "id": "VUx_FLFEAXrQ",
        "colab_type": "text"
      },
      "source": [
        "### 2. （簡答題）網頁中使用的 JavaScipt 程式語言，跟我們一般使用的 Python 在執行上有什麼不同。"
      ]
    },
    {
      "cell_type": "markdown",
      "metadata": {
        "id": "cks2y9K3OYf_",
        "colab_type": "text"
      },
      "source": [
        "\n",
        "*JavaScript 需要搭配瀏覽器才能運作功能，無法獨立執行。但Python可以。\n",
        "\n",
        "\n",
        "* Javascript的物件導向是基於原型（prototype）的， 物件的繼承是由原型（也是物件）建立出來的，由原型物件建立出來的物件繼承了原型鏈上的方法。\n",
        "\n",
        "* Python的物件導向是基於類（class）的繼承，並天然的支援多型（polymophine）。\n",
        "\n",
        "[參考資料](https://codertw.com/%E7%A8%8B%E5%BC%8F%E8%AA%9E%E8%A8%80/15815/)"
      ]
    }
  ]
}