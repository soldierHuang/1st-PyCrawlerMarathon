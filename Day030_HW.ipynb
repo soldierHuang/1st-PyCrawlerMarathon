{
  "nbformat": 4,
  "nbformat_minor": 0,
  "metadata": {
    "kernelspec": {
      "display_name": "Python 3",
      "language": "python",
      "name": "python3"
    },
    "language_info": {
      "codemirror_mode": {
        "name": "ipython",
        "version": 3
      },
      "file_extension": ".py",
      "mimetype": "text/x-python",
      "name": "python",
      "nbconvert_exporter": "python",
      "pygments_lexer": "ipython3",
      "version": "3.6.5"
    },
    "colab": {
      "name": "Day030_HW.ipynb",
      "provenance": []
    }
  },
  "cells": [
    {
      "cell_type": "markdown",
      "metadata": {
        "id": "WjGKKLHUUZTK",
        "colab_type": "text"
      },
      "source": [
        "# 實務上的爬蟲與挑戰\n",
        "\n",
        "\n",
        "* 實務上爬蟲可能遇到的問題有哪些\n",
        "* 淺談常見防爬蟲機制與處理策略\n",
        "* 如何建構一個可以自動持續更新的爬蟲程式\n",
        "\n",
        "\n"
      ]
    },
    {
      "cell_type": "markdown",
      "metadata": {
        "id": "MSRpjt9WUZTP",
        "colab_type": "text"
      },
      "source": [
        "## 作業目標\n",
        "\n",
        "* （簡答題）試著舉出一到三個爬蟲可能會遇到的問題導致無法抓取的？\n"
      ]
    },
    {
      "cell_type": "markdown",
      "metadata": {
        "id": "lcU2T3hjY7PB",
        "colab_type": "text"
      },
      "source": [
        "[python爬蟲過程中出現的問題匯總](https://blog.csdn.net/MonsterZw/article/details/82744646)\n",
        "\n",
        "1.出現 UnicodeDecodeError: 'ascii' codec can't decode byte 0xe5 in position 7: ordinal not in range(128)\n",
        "*   原因：str 和unicode 數據類型混淆\n",
        "\n",
        "2.出現 SyntaxError: Non-ASCII character '\\xe8' in file\n",
        "\n",
        "*   原因：編碼文件ASCII-code \n",
        "\n",
        "![alt text](http://www.niocchi.com/architecture.png)\n"
      ]
    },
    {
      "cell_type": "markdown",
      "metadata": {
        "id": "7WPTAFj5a0C3",
        "colab_type": "text"
      },
      "source": [
        "![alt text](https://i1.wp.com/pic1.zhimg.com/50/v2-728984b3a130c348baf4d2bcd9422422_hd.jpg)"
      ]
    },
    {
      "cell_type": "markdown",
      "metadata": {
        "id": "6ffND8LCWgcj",
        "colab_type": "text"
      },
      "source": [
        "\n",
        "[python網路爬蟲（web spider）系統化整理總結](https://www.itread01.com/content/1542271627.html)\n",
        "\n",
        "\n",
        "\n",
        "![alt text](https://img.itw01.com/images/2018/06/17/15/3642_5l1qNn_2VCHJEN.jpg)\n",
        "\n"
      ]
    }
  ]
}