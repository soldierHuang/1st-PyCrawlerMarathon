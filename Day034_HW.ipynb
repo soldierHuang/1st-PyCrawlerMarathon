{
  "nbformat": 4,
  "nbformat_minor": 0,
  "metadata": {
    "colab": {
      "name": "Day034_HW.ipynb",
      "provenance": [],
      "toc_visible": true
    },
    "kernelspec": {
      "display_name": "Python 3",
      "language": "python",
      "name": "python3"
    },
    "language_info": {
      "codemirror_mode": {
        "name": "ipython",
        "version": 3
      },
      "file_extension": ".py",
      "mimetype": "text/x-python",
      "name": "python",
      "nbconvert_exporter": "python",
      "pygments_lexer": "ipython3",
      "version": "3.6.5"
    }
  },
  "cells": [
    {
      "cell_type": "markdown",
      "metadata": {
        "colab_type": "text",
        "id": "I8CoX4R7VoCd"
      },
      "source": [
        "# 反爬：代理伺服器/IP\n",
        "\n",
        "* 了解「IP 黑/白名單」的反爬蟲機制\n",
        "* 「IP 黑/白名單」反爬蟲的因應策略"
      ]
    },
    {
      "cell_type": "markdown",
      "metadata": {
        "colab_type": "text",
        "id": "n-3DZ_r5VoCe"
      },
      "source": [
        "## 作業目標\n",
        "\n",
        "* 目前程式中的 proxy_ips 是手動輸入的，請根據 https://free-proxy-list.net/ 寫一個可自動化抓取可用 Proxy 的 proxy_ips。\n",
        "\n",
        "\n"
      ]
    },
    {
      "cell_type": "code",
      "metadata": {
        "colab_type": "code",
        "id": "iny-9heBVoCf",
        "colab": {
          "base_uri": "https://localhost:8080/",
          "height": 35
        },
        "outputId": "1e0f52af-84ed-44fc-cca7-4a2999523bd3"
      },
      "source": [
        "# 靜態網頁查詢\n",
        "\n",
        "from bs4 import BeautifulSoup\n",
        "import requests\n",
        "import random\n",
        "import re\n",
        "\n",
        "r = requests.get('https://free-proxy-list.net/')\n",
        "soup = BeautifulSoup(r.text, 'html5lib')\n",
        "\n",
        "regex = '(\\d{1,3}).(\\d{1,3}).(\\d{1,3}).(\\d{1,3})'\n",
        "pattern = re.compile(regex)\n",
        "\n",
        "proxy_ips_static = []\n",
        "for td in soup.find('table',id='proxylisttable').find_all('td'):\n",
        "    td = td.text\n",
        "    result = re.search(pattern, td)\n",
        "    if result:\n",
        "        proxy_ips_static.append(td)\n",
        "\n",
        "len(proxy_ips_static)"
      ],
      "execution_count": 1,
      "outputs": [
        {
          "output_type": "execute_result",
          "data": {
            "text/plain": [
              "300"
            ]
          },
          "metadata": {
            "tags": []
          },
          "execution_count": 1
        }
      ]
    },
    {
      "cell_type": "code",
      "metadata": {
        "id": "rlcrQycbS8YE",
        "colab_type": "code",
        "colab": {}
      },
      "source": [
        "# 動態網頁查詢\n",
        "\n",
        "# !pip install selenium\n",
        "# !apt install chromium-chromedriver\n",
        "\n",
        "# from selenium import webdriver\n",
        "\n",
        "# options = webdriver.ChromeOptions()\n",
        "# options.add_argument('--headless')\n",
        "# options.add_argument('--no-sandbox')\n",
        "# options.add_argument('--disable-dev-shm-usage')\n",
        "\n",
        "# browser = webdriver.Chrome('chromedriver',options=options)\n",
        "# browser.maximize_window()\n",
        "\n",
        "\n",
        "# from bs4 import BeautifulSoup\n",
        "# import requests\n",
        "# import random\n",
        "# import time\n",
        "\n",
        "# proxy_ips_selenium = []\n",
        "\n",
        "# proxy_url = 'https://free-proxy-list.net/'\n",
        "# browser.get(proxy_url)  # 打開瀏覽器並連到網頁\n",
        "# time.sleep(0.5)  # delay一段時間等待網頁更新完成\n",
        "\n",
        "# n = 0\n",
        "# while True:\n",
        "#     time.sleep(3)  # delay一段時間等待網頁更新完成\n",
        "#     html = browser.page_source\n",
        "#     soup = BeautifulSoup(html, 'lxml')\n",
        "#     table = soup.find(name = 'table',attrs = {'id':'proxylisttable'})\n",
        "#     tbody = table.find('tbody')\n",
        "    \n",
        "#     for tr in tbody:\n",
        "#         ip = tr.td.string\n",
        "#         port = tr.td.next_sibling.string\n",
        "#         proxy_ips_selenium.append(ip + ':' + port)\n",
        "# #     print(proxy_ips)\n",
        "\n",
        "#     n += 1\n",
        "#     print(f'第{n}頁已爬完')\n",
        "\n",
        "#     for i in range(1):\n",
        "#         browser.find_element_by_xpath(\"//li[@class='fg-button ui-button ui-state-default next']/a\").click()\n",
        "#         break\n",
        "\n",
        "#     # nextpage = browser.find_element_by_xpath(\"//li[@class='fg-button ui-button ui-state-default next']/a/disabled\")\n",
        "\n",
        "#     # if nextpage is not None:\n",
        "#     #     print(f'沒有下一頁了，共{n}頁')\n",
        "#     #     break\n",
        "#     # else:\n",
        "#     #     browser.find_element_by_xpath(\"//li[@class='fg-button ui-button ui-state-default next']/a\").click()\n",
        "\n",
        "\n",
        "# len(proxy_ips_selenium)"
      ],
      "execution_count": 0,
      "outputs": []
    },
    {
      "cell_type": "code",
      "metadata": {
        "colab_type": "code",
        "id": "75dIsHjiVoCi",
        "colab": {
          "base_uri": "https://localhost:8080/",
          "height": 377
        },
        "outputId": "15d6493c-930e-409e-dc7d-d9bdf800b831"
      },
      "source": [
        "proxy_ips = proxy_ips_static\n",
        "# proxy_ips = proxy_ips_selenium\n",
        "\n",
        "for i in range(10):\n",
        "    ip = random.choice(proxy_ips)\n",
        "    print('Use', ip)\n",
        "    try:\n",
        "        resp = requests.get('http://ip.filefab.com/index.php',\n",
        "                        proxies={'http': ip, 'https': ip}, timeout=10)\n",
        "        soup = BeautifulSoup(resp.text, 'html5lib')\n",
        "        print(soup.find('h1', id='ipd').text.strip())\n",
        "    except:\n",
        "        print('Fail')"
      ],
      "execution_count": 3,
      "outputs": [
        {
          "output_type": "stream",
          "text": [
            "Use 36.89.229.13\n",
            "Fail\n",
            "Use 119.82.252.71\n",
            "Fail\n",
            "Use 74.59.132.126\n",
            "Fail\n",
            "Use 151.253.92.173\n",
            "Fail\n",
            "Use 168.228.192.13\n",
            "Fail\n",
            "Use 87.197.156.62\n",
            "Fail\n",
            "Use 77.222.152.137\n",
            "Fail\n",
            "Use 1.2.169.12\n",
            "Fail\n",
            "Use 46.99.255.235\n",
            "Fail\n",
            "Use 138.121.155.127\n",
            "Fail\n"
          ],
          "name": "stdout"
        }
      ]
    }
  ]
}