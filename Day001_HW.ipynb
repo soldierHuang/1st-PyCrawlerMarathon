{
  "nbformat": 4,
  "nbformat_minor": 0,
  "metadata": {
    "kernelspec": {
      "display_name": "Python 3",
      "language": "python",
      "name": "python3"
    },
    "language_info": {
      "codemirror_mode": {
        "name": "ipython",
        "version": 3
      },
      "file_extension": ".py",
      "mimetype": "text/x-python",
      "name": "python",
      "nbconvert_exporter": "python",
      "pygments_lexer": "ipython3",
      "version": "3.6.5"
    },
    "colab": {
      "name": "Day001_HW.ipynb",
      "provenance": [],
      "toc_visible": true
    }
  },
  "cells": [
    {
      "cell_type": "markdown",
      "metadata": {
        "id": "4gSCZwJfEj5S",
        "colab_type": "text"
      },
      "source": [
        "# 資料來源與檔案存取\n",
        "\n",
        "* 資料來源與取得\n",
        "* 開放資料\n",
        "* 資料儲存格式\n",
        "* Python 存取檔案"
      ]
    },
    {
      "cell_type": "markdown",
      "metadata": {
        "id": "W4309GmOEj5Y",
        "colab_type": "text"
      },
      "source": [
        "## 作業目標\n",
        "\n",
        "* 1.（簡答題）檔案、API、爬蟲三種取得資料方式有什麼不同？\n",
        "* 2.（實作）完成一個程式，需滿足下列需求：\n",
        "    * 下載指定檔案到 Data 資料夾，存成檔名 Homework.txt\n",
        "    * 檢查 Data 資料夾是否有 Homework.txt 檔名之檔案\n",
        "    * 將「Hello World」字串覆寫到 Homework.txt 檔案\n",
        "    * 檢查 Homework.txt 檔案字數是否符合 Hello World 字數\n"
      ]
    },
    {
      "cell_type": "markdown",
      "metadata": {
        "id": "rmnT17GpEj5b",
        "colab_type": "text"
      },
      "source": [
        "### 1.（簡答題）檔案、API、爬蟲三種取得資料方式有什麼不同？"
      ]
    },
    {
      "cell_type": "markdown",
      "metadata": {
        "id": "2ltWcRx_QqIp",
        "colab_type": "text"
      },
      "source": [
        "![Image](https://blog.moli.rocks/content/images/2017/03/scrapy_architecture_02.png)\n",
        "\n",
        "https://blog.moli.rocks/content/images/2017/03/scrapy_architecture_02.png"
      ]
    },
    {
      "cell_type": "markdown",
      "metadata": {
        "id": "5HaW_VBhEj5c",
        "colab_type": "text"
      },
      "source": [
        "### 2.（實作）完成一個程式，需滿足下列需求：\n",
        "    * 下載指定檔案到 Data 資料夾，存成檔名 Homework.txt\n",
        "    * 檢查 Data 資料夾是否有 Homework.txt 檔名之檔案\n",
        "    * 將「Hello World」字串覆寫到 Homework.txt 檔案\n",
        "    * 檢查 Homework.txt 檔案字數是否符合 Hello World 字數\n"
      ]
    },
    {
      "cell_type": "code",
      "metadata": {
        "id": "8ip3jX2CEj5e",
        "colab_type": "code",
        "colab": {}
      },
      "source": [
        "# 根據需求引入正確的 Library\n",
        "\n",
        "from urllib.request import urlretrieve\n",
        "import os"
      ],
      "execution_count": 0,
      "outputs": []
    },
    {
      "cell_type": "code",
      "metadata": {
        "id": "SFzLf6s2Ej5m",
        "colab_type": "code",
        "colab": {}
      },
      "source": [
        "# 下載檔案到 Data 資料夾，存成檔名 Homework.txt\n",
        "\n",
        "try:\n",
        "    os.makedirs( '/content/', exist_ok=True )\n",
        "    '''\n",
        "    Your Code\n",
        "    '''\n",
        "\n",
        "    urlretrieve (\"https://www.w3.org/TR/PNG/iso_8859-1.txt\", \"/content/Homework.txt\")\n",
        "except:\n",
        "    print('發生錯誤！')"
      ],
      "execution_count": 0,
      "outputs": []
    },
    {
      "cell_type": "code",
      "metadata": {
        "id": "CIchXuGoEj5p",
        "colab_type": "code",
        "outputId": "2edb1373-0748-4ee7-8a64-02529958f8af",
        "colab": {
          "base_uri": "https://localhost:8080/",
          "height": 34
        }
      },
      "source": [
        "# 檢查 Data 資料夾是否有 Homework.txt 檔名之檔案\n",
        "\n",
        "files = []\n",
        "\n",
        "'''\n",
        "Your Code\n",
        "'''\n",
        "\n",
        "dirs = os.listdir( '/content/' )\n",
        "files = dirs\n",
        "\n",
        "# print(files)\n",
        "\n",
        "if 'Homework.txt' in files:\n",
        "    print('[O] 檢查 Data 資料夾是否有 Homework.txt 檔名之檔案')\n",
        "else:\n",
        "    print('[X] 檢查 Data 資料夾是否有 Homework.txt 檔名之檔案')"
      ],
      "execution_count": 3,
      "outputs": [
        {
          "output_type": "stream",
          "text": [
            "[O] 檢查 Data 資料夾是否有 Homework.txt 檔名之檔案\n"
          ],
          "name": "stdout"
        }
      ]
    },
    {
      "cell_type": "code",
      "metadata": {
        "id": "rsHRPhHUEj5r",
        "colab_type": "code",
        "colab": {
          "base_uri": "https://localhost:8080/",
          "height": 51
        },
        "outputId": "00e7fcf5-b703-4bb4-f3b0-386ab96fcb81"
      },
      "source": [
        "# 將「Hello World」字串覆寫到 Homework.txt 檔案\n",
        "\n",
        "f = ''\n",
        "\n",
        "with open(\"/content/Homework.txt\", \"w\") as fh:\n",
        "    '''\n",
        "    Your Code\n",
        "    '''\n",
        "    f = fh.write(\"Hello World\")\n",
        "    print()\n",
        "    fh.close()\n",
        "\n",
        "try:\n",
        "    with open(\"/content/Homework.txt\", \"r\") as fh:\n",
        "        '''\n",
        "        Your Code\n",
        "        '''\n",
        "        f = fh.read()\n",
        "        print(f)\n",
        "        fh.close()\n",
        "\n",
        "except EnvironmentError: # parent of IOError, OSError *and* WindowsError where available\n",
        "    pass    \n",
        "    \n"
      ],
      "execution_count": 4,
      "outputs": [
        {
          "output_type": "stream",
          "text": [
            "\n",
            "Hello World\n"
          ],
          "name": "stdout"
        }
      ]
    },
    {
      "cell_type": "code",
      "metadata": {
        "scrolled": true,
        "id": "B2dzVDILEj5t",
        "colab_type": "code",
        "outputId": "13e71ae4-0071-43f6-eb55-bc3acfab9620",
        "colab": {
          "base_uri": "https://localhost:8080/",
          "height": 34
        }
      },
      "source": [
        "# 檢查 Homework.txt 檔案字數是否符合 Hello World 字數\n",
        "\n",
        "if len('Hello World') == len(f):\n",
        "    print('[O] 檢查 Homework.txt 檔案字數是否符合 Hello World 字數')\n",
        "else:\n",
        "    print('[X] 檢查 Homework.txt 檔案字數是否符合 Hello World 字數')"
      ],
      "execution_count": 5,
      "outputs": [
        {
          "output_type": "stream",
          "text": [
            "[O] 檢查 Homework.txt 檔案字數是否符合 Hello World 字數\n"
          ],
          "name": "stdout"
        }
      ]
    }
  ]
}